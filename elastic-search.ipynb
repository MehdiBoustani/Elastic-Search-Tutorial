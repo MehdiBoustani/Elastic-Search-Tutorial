{
 "cells": [
  {
   "cell_type": "markdown",
   "metadata": {},
   "source": [
    "# Exploring Elastic Search\n",
    "\n",
    "**Mehdi Boustani** - S221594  \n",
    "**Nicolas Schneiders** - S203005  \n",
    "**Maxim Piron** - S211493  \n",
    "**Andreas Stistrup** - S212891  \n",
    "\n",
    "*Faculty of Applied Sciences, University of Liège*\n",
    "\n",
    "April 28, 2025\n"
   ]
  },
  {
   "cell_type": "markdown",
   "metadata": {},
   "source": [
    "# Introduction"
   ]
  },
  {
   "cell_type": "markdown",
   "metadata": {},
   "source": []
  },
  {
   "cell_type": "markdown",
   "metadata": {},
   "source": [
    "# Installation & configuration"
   ]
  },
  {
   "cell_type": "markdown",
   "metadata": {},
   "source": [
    "## Docker"
   ]
  },
  {
   "cell_type": "markdown",
   "metadata": {},
   "source": [
    "### Installing Elasticsearch\n",
    "If you don't have Docker installed yet, you can download and install it from the [official website](https://www.docker.com/). \n",
    "\n",
    "Once Docker is running on your machine, launch Elasticsearch using the following command:"
   ]
  },
  {
   "cell_type": "code",
   "execution_count": null,
   "metadata": {},
   "outputs": [],
   "source": [
    "!docker run -p 127.0.0.1:9200:9200 -d --name elasticsearch \\\n",
    "  -e \"discovery.type=single-node\" \\\n",
    "  -e \"xpack.security.enabled=false\" \\\n",
    "  -e \"xpack.license.self_generated.type=trial\" \\\n",
    "  -v \"elasticsearch-data:/usr/share/elasticsearch/data\" \\\n",
    "  docker.elastic.co/elasticsearch/elasticsearch:8.15.0\n"
   ]
  },
  {
   "cell_type": "markdown",
   "metadata": {},
   "source": [
    "## Dependencies  \n",
    "Let's install all the necessary Python packages we'll be using throughout this tutorial.\n"
   ]
  },
  {
   "cell_type": "code",
   "execution_count": 2,
   "metadata": {},
   "outputs": [
    {
     "name": "stdout",
     "output_type": "stream",
     "text": [
      "Defaulting to user installation because normal site-packages is not writeable\n",
      "Requirement already satisfied: requests in /home/zenixtu/.local/lib/python3.10/site-packages (2.32.3)\n",
      "Requirement already satisfied: elasticsearch==8.15.0 in /home/zenixtu/.local/lib/python3.10/site-packages (8.15.0)\n",
      "Requirement already satisfied: pandas in /home/zenixtu/.local/lib/python3.10/site-packages (2.2.3)\n",
      "Requirement already satisfied: matplotlib in /home/zenixtu/.local/lib/python3.10/site-packages (3.7.0)\n",
      "Requirement already satisfied: elastic-transport<9,>=8.13 in /home/zenixtu/.local/lib/python3.10/site-packages (from elasticsearch==8.15.0) (8.17.1)\n",
      "Requirement already satisfied: urllib3<3,>=1.21.1 in /usr/lib/python3/dist-packages (from requests) (1.26.5)\n",
      "Requirement already satisfied: charset-normalizer<4,>=2 in /home/zenixtu/.local/lib/python3.10/site-packages (from requests) (3.4.0)\n",
      "Requirement already satisfied: certifi>=2017.4.17 in /usr/lib/python3/dist-packages (from requests) (2020.6.20)\n",
      "Requirement already satisfied: idna<4,>=2.5 in /usr/lib/python3/dist-packages (from requests) (3.3)\n",
      "Requirement already satisfied: pytz>=2020.1 in /usr/lib/python3/dist-packages (from pandas) (2022.1)\n",
      "Requirement already satisfied: python-dateutil>=2.8.2 in /home/zenixtu/.local/lib/python3.10/site-packages (from pandas) (2.9.0.post0)\n",
      "Requirement already satisfied: numpy>=1.22.4 in /home/zenixtu/.local/lib/python3.10/site-packages (from pandas) (1.26.4)\n",
      "Requirement already satisfied: tzdata>=2022.7 in /home/zenixtu/.local/lib/python3.10/site-packages (from pandas) (2024.2)\n",
      "Requirement already satisfied: pyparsing>=2.3.1 in /usr/lib/python3/dist-packages (from matplotlib) (2.4.7)\n",
      "Requirement already satisfied: pillow>=6.2.0 in /usr/lib/python3/dist-packages (from matplotlib) (9.0.1)\n",
      "Requirement already satisfied: cycler>=0.10 in /usr/lib/python3/dist-packages (from matplotlib) (0.11.0)\n",
      "Requirement already satisfied: contourpy>=1.0.1 in /home/zenixtu/.local/lib/python3.10/site-packages (from matplotlib) (1.3.0)\n",
      "Requirement already satisfied: fonttools>=4.22.0 in /usr/lib/python3/dist-packages (from matplotlib) (4.29.1)\n",
      "Requirement already satisfied: packaging>=20.0 in /home/zenixtu/.local/lib/python3.10/site-packages (from matplotlib) (24.2)\n",
      "Requirement already satisfied: kiwisolver>=1.0.1 in /usr/lib/python3/dist-packages (from matplotlib) (1.3.2)\n",
      "Requirement already satisfied: six>=1.5 in /usr/lib/python3/dist-packages (from python-dateutil>=2.8.2->pandas) (1.16.0)\n"
     ]
    }
   ],
   "source": [
    "# requests       → to interact with the Elasticsearch REST API\n",
    "# elasticsearch  → official Elasticsearch Python client\n",
    "# pandas         → for handling and analyzing tabular data (e.g., dataset exploration)\n",
    "# matplotlib     → for optional data visualization (e.g., query stats or aggregations)\n",
    "\n",
    "!pip install requests elasticsearch==8.15.0 pandas matplotlib"
   ]
  },
  {
   "cell_type": "code",
   "execution_count": 3,
   "metadata": {},
   "outputs": [
    {
     "name": "stdout",
     "output_type": "stream",
     "text": [
      "Connected to ElasticSearch !\n",
      "{'cluster_name': 'docker-cluster',\n",
      " 'cluster_uuid': 'sY43eXx2R5C_MHq1iRpKKQ',\n",
      " 'name': '6e8d9e503ed5',\n",
      " 'tagline': 'You Know, for Search',\n",
      " 'version': {'build_date': '2024-08-05T10:05:34.233336849Z',\n",
      "             'build_flavor': 'default',\n",
      "             'build_hash': '1a77947f34deddb41af25e6f0ddb8e830159c179',\n",
      "             'build_snapshot': False,\n",
      "             'build_type': 'docker',\n",
      "             'lucene_version': '9.11.1',\n",
      "             'minimum_index_compatibility_version': '7.0.0',\n",
      "             'minimum_wire_compatibility_version': '7.17.0',\n",
      "             'number': '8.15.0'}}\n"
     ]
    }
   ],
   "source": [
    "from pprint import pprint\n",
    "from elasticsearch import Elasticsearch, helpers\n",
    "\n",
    "es = Elasticsearch('http://localhost:9200')\n",
    "info = es.info()\n",
    "\n",
    "print('Connected to ElasticSearch !')\n",
    "pprint(info.body)\n"
   ]
  },
  {
   "cell_type": "markdown",
   "metadata": {},
   "source": [
    "## Importing data with the bulk api\n",
    "\n",
    "To efficiently load a large dataset into Elasticsearch, we use the Bulk API. This method allows us to insert multiple documents in a single request, which is much faster and more efficient than indexing documents one by one. In this example, we will import the contents of our `apod.json` file—where each element is a document—into a new index called `apod`."
   ]
  },
  {
   "cell_type": "code",
   "execution_count": 4,
   "metadata": {},
   "outputs": [
    {
     "name": "stdout",
     "output_type": "stream",
     "text": [
      "Bulk import terminé !\n"
     ]
    }
   ],
   "source": [
    "import json\n",
    "\n",
    "with open(\"apod.json\", \"r\") as f:\n",
    "    data = json.load(f)\n",
    "\n",
    "# Prepare the actions for the bulk\n",
    "actions = [\n",
    "    {\n",
    "        \"_index\": \"apod\",\n",
    "        \"_id\": doc[\"title\"], # We use the title as index since it is a unique field (the unicity is important!)\n",
    "        \"_source\": doc\n",
    "    }\n",
    "    for doc in data\n",
    "]\n",
    "\n",
    "# We import the data in bulk\n",
    "try:\n",
    "    helpers.bulk(es, actions)\n",
    "    print(\"Bulk import terminé !\")\n",
    "except  Exception as e:\n",
    "    print(e)"
   ]
  },
  {
   "cell_type": "markdown",
   "metadata": {},
   "source": [
    "## Basic queries in ElasticSearch"
   ]
  },
  {
   "cell_type": "markdown",
   "metadata": {},
   "source": [
    "Elasticsearch exposes a RESTful API, which means you interact with it using standard HTTP methods. Here are the most common operations:\n",
    "\n",
    "- **GET**: Read a document or perform a search\n",
    "- **POST**: Add a new document\n",
    "- **PUT**: Create or replace a document or an index\n",
    "- **DELETE**: Remove a document or an index"
   ]
  },
  {
   "cell_type": "markdown",
   "metadata": {},
   "source": [
    "### GET method\n",
    "\n",
    "The GET method is used to retrieve data from our json file by providing an id. If the document with the specified id doesn't exist, it throws an exception."
   ]
  },
  {
   "cell_type": "code",
<<<<<<< HEAD
   "execution_count": null,
   "metadata": {},
   "outputs": [],
=======
   "execution_count": 7,
   "metadata": {},
   "outputs": [
    {
     "name": "stdout",
     "output_type": "stream",
     "text": [
      "{'authors': 'Petr Horálek, Institute of Physics in Opava\\n',\n",
      " 'date': '2024-09-20',\n",
      " 'explanation': \"Explanation: For northern hemisphere dwellers, September's \"\n",
      "                'Full Moon was the Harvest Moon. On September 17/18 the sunlit '\n",
      "                \"lunar nearside passed into shadow, just grazing Earth's \"\n",
      "                \"umbra, the planet's dark, central shadow cone, in a partial \"\n",
      "                'lunar eclipse. Over the two and a half hours before dawn a '\n",
      "                'camera fixed to a tripod was used to record this series of '\n",
      "                'exposures as the eclipsed Harvest Moon set behind Spiš Castle '\n",
      "                'in the hazy morning sky over eastern Slovakia. Famed in '\n",
      "                'festival, story, and song, Harvest Moon is just the '\n",
      "                'traditional name of the full moon nearest the autumnal '\n",
      "                'equinox. According to lore the name is a fitting one. Despite '\n",
      "                'the diminishing daylight hours as the growing season drew to '\n",
      "                'a close, farmers could harvest crops by the light of a full '\n",
      "                \"moon shining on from dusk to dawn. This September's Harvest \"\n",
      "                'Moon was also known to some as a supermoon, a term becoming a '\n",
      "                'traditional name for a full moon near perigee.',\n",
      " 'image_url': 'https://apod.nasa.gov/apod/image/2409/2024_09_18_ZM_Spis_50mm-Pano_Postupka_1024c.png',\n",
      " 'title': 'A Hazy Harvest Moon'}\n"
     ]
    }
   ],
>>>>>>> 41e02f7 (feat: dpl vs sql)
   "source": [
    "try:\n",
    "    doc = es.get(index=\"apod\", id=\"A Hazy Harvest Moon\")\n",
    "    pprint(doc['_source'])\n",
    "\n",
    "except:\n",
    "    print(\"A document with this id doesn't exist!\")"
   ]
  },
  {
   "cell_type": "markdown",
   "metadata": {},
   "source": [
    "### POST method\n",
    "\n",
    "The POST method is used to create a new document. When using the index() method without specifying an id, elasticsearch automatically generates one (not the title as the other documents)."
   ]
  },
  {
   "cell_type": "code",
<<<<<<< HEAD
   "execution_count": null,
=======
   "execution_count": 8,
>>>>>>> 41e02f7 (feat: dpl vs sql)
   "metadata": {},
   "outputs": [],
   "source": [
    "from datetime import datetime\n",
    "\n",
    "new_id = \"A New APOD\"\n",
    "\n",
    "new_doc = {\n",
    "    \"date\": datetime.now().strftime(\"%Y-%m-%d\"),\n",
    "    \"title\": new_id,\n",
    "    \"explanation\": \"This is a new document added via POST.\",\n",
    "    \"image_url\": \"https://apod.nasa.gov/apod/image/2410/new_apod.jpg\",\n",
    "    \"authors\": \"Mehdi Boustani\"\n",
    "}\n",
    "\n",
    "res = es.index(index=\"apod\", document=new_doc)\n",
    "\n",
    "print(\"Document added successfully\")"
   ]
  },
  {
   "cell_type": "markdown",
   "metadata": {},
   "source": [
    "### PUT method\n",
    "\n",
    "The PUT method is used to create or replace a document at a specified id. If a document with that id already exists, it will be overwritten."
   ]
  },
  {
   "cell_type": "code",
<<<<<<< HEAD
   "execution_count": null,
=======
   "execution_count": 9,
>>>>>>> 41e02f7 (feat: dpl vs sql)
   "metadata": {},
   "outputs": [],
   "source": [
    "replaced_id = \"Replaced APOD\"\n",
    "\n",
    "doc = {\n",
    "    \"date\": \"2024-10-02\",\n",
    "    \"title\": replaced_id,\n",
    "    \"explanation\": \"This document replaces any previous one with the same ID.\",\n",
    "    \"image_url\": \"https://apod.nasa.gov/apod/image/2410/new_apod.jpg\",\n",
    "    \"authors\": \"Mehdi Boustani\"\n",
    "}\n",
    "\n",
    "# Let's replace our previously created document\n",
    "es.index(index=\"apod\", id=new_id, document=doc)\n",
    "\n",
    "# Since we use personnalized id, let's replace it manually\n",
    "es.index(index=\"apod\", id=replaced_id, document=doc)\n",
    "\n",
    "print(f\"Document with id '{new_id}' replaced by a new document with id '{replaced_id}'\")"
   ]
  },
  {
   "cell_type": "markdown",
   "metadata": {},
   "source": [
    "### DELETE method\n",
    "\n",
    "This method is used to delete a document by its id. The id must be known and specified in the request."
   ]
  },
  {
   "cell_type": "code",
<<<<<<< HEAD
   "execution_count": null,
=======
   "execution_count": 10,
>>>>>>> 41e02f7 (feat: dpl vs sql)
   "metadata": {},
   "outputs": [],
   "source": [
    "try:\n",
    "    es.delete(index=\"apod\", id=replaced_id)\n",
    "    print(f\"Document with ID {replaced_id} deleted.\")\n",
    "\n",
    "except:\n",
    "    print(\"The specified document to delete doesn't exist\")\n",
    "\n",
    "# Delete the entire index (Attention: this is irreversible!)\n",
    "# es.indices.delete(index=\"apod\")\n",
    "# print(\"Index 'apod' deleted.\")"
   ]
  },
  {
   "cell_type": "markdown",
   "metadata": {},
   "source": [
<<<<<<< HEAD
    "# Elastic search as a search engine"
=======
    "## DPL vs SQL"
>>>>>>> 41e02f7 (feat: dpl vs sql)
   ]
  },
  {
   "cell_type": "markdown",
   "metadata": {},
   "source": [
<<<<<<< HEAD
    "The goal of Elasticsearch is to empower client workflows to retrieve data from your database using powerful, flexible queries. To customize search behavior, Elasticsearch offers several fine-tuning parameters. In this section, we’ll explore the filter, must, must_not, and should clauses.\n",
    "\n",
    "A key concept here is document scoring. When you run a query, Elasticsearch calculates a relevance score for each candidate document and orders results accordingly. You then return the top n documents based on that ranking. To further control how scores influence ordering, you can use the boost parameter to adjust relevance and achieve custom ranking."
=======
    "Elasticsearch doesn't use traditional SQL language to query data, but rather a **DSL (Domain Specific Language)** based on JSON."
   ]
  },
  {
   "cell_type": "markdown",
   "metadata": {},
   "source": [
    "### Main differencies\n",
    "\n",
    "1. **Query Structure**\n",
    "   - **SQL**: Uses a strict syntax with clauses like `SELECT`, `FROM`, `WHERE`\n",
    "   - **DSL**: Uses a nested JSON format, offering more flexibility in how queries are expressed\n",
    "\n",
    "2. **Search Types**\n",
    "   - **SQL**: Focuses mainly on exact matches\n",
    "   - **DSL**: Supports advanced search techniques like full-text search, fuzzy matching, and range queries\n",
    "\n",
    "Let's explore practical examples comparing SQL concepts with Elasticsearch's DSL."
>>>>>>> 41e02f7 (feat: dpl vs sql)
   ]
  },
  {
   "cell_type": "markdown",
   "metadata": {},
   "source": [
<<<<<<< HEAD
    "## Filter requests"
   ]
  },
  {
   "cell_type": "markdown",
   "metadata": {},
   "source": [
    "When you apply a filter criterion to your query, you define one or more clauses that documents must satisfy to be included. Filters are score-neutral, they don’t alter a document’s relevance score, they only prune out non-matching hits. Below we’ll explore a selection of the most common filter clauses."
=======
    "### Full-text search"
>>>>>>> 41e02f7 (feat: dpl vs sql)
   ]
  },
  {
   "cell_type": "code",
<<<<<<< HEAD
   "execution_count": null,
   "metadata": {},
   "outputs": [],
   "source": [
    "from pprint import pprint\n",
    "index_name = \"apod\"\n",
    "\n",
    "# This query will filter out documents that do not match the date \"2024-09-27\"\n",
    "term_query = {\n",
    "    \"term\": {\"date\": \"2024-09-27\"}\n",
    "}\n",
    "\n",
    "# This query will filter documents with a date between \"2024-09-09\" and \"2024-09-30\"\n",
    "range_query = {\n",
    "    \"range\": {\n",
    "        \"date\": {\"gte\": \"2024-09-09\", \"lte\": \"2024-09-30\"}\n",
    "    }\n",
    "}\n",
    "\n",
    "# This query will filter documents that have a non-null value for the field \"image_url\"\n",
    "exists_query = {\n",
    "    \"exists\": {\"field\": \"note\"}\n",
    "}\n",
    "\n",
    "# This query will filter documents that have the exact term \"David Martinez Delgado et al.\" in the \"authors\" field\n",
    "term_authors_query = {\n",
    "    \"term\": {\"authors.keyword\": \"David Martinez Delgado et al.\"}\n",
    "}\n",
    "\n",
    "# This query will filter documents that have a title starting with \"Comet\"\n",
    "prefix_query = {\n",
    "    \"prefix\": {\"title.keyword\": \"Comet\"}\n",
    "}\n",
    "\n",
    "\n",
    "print(\"=== Term Query on date ===\")\n",
    "res = es.search(index=index_name, body={\"query\": {\"bool\": {\"filter\": [term_query]}}})\n",
    "for hit in res[\"hits\"][\"hits\"]:\n",
    "    pprint(hit[\"_source\"])\n",
    "\n",
    "print(\"\\n=== Range Query on date ===\")\n",
    "res = es.search(index=index_name, body={\"query\": {\"bool\": {\"filter\": [range_query]}}})\n",
    "for hit in res[\"hits\"][\"hits\"]:\n",
    "    pprint(hit[\"_source\"])\n",
    "\n",
    "print(\"\\n=== Exists Query on note ===\")\n",
    "res = es.search(index=index_name, body={\"query\": {\"bool\": {\"filter\": [exists_query]}}})\n",
    "for hit in res[\"hits\"][\"hits\"]:\n",
    "    pprint(hit[\"_source\"])\n",
    "\n",
    "print(\"\\n=== Exact Term Query on authors ===\")\n",
    "res = es.search(index=index_name, body={\"query\": {\"bool\": {\"filter\": [term_authors_query]}}})\n",
    "for hit in res[\"hits\"][\"hits\"]:\n",
    "    pprint(hit[\"_source\"])\n",
    "\n",
    "print(\"\\n=== Prefix Query on title ===\")\n",
    "res = es.search(index=index_name, body={\"query\": {\"bool\": {\"filter\": [prefix_query]}}})\n",
    "for hit in res[\"hits\"][\"hits\"]:\n",
    "    pprint(hit[\"_source\"])\n"
   ]
  },
  {
   "cell_type": "markdown",
   "metadata": {},
   "source": [
    "## Must requests"
   ]
  },
  {
   "cell_type": "markdown",
   "metadata": {},
   "source": [
    "The must criterion works much like filter in that it first determines which records are eligible but with one key difference: when a document matches a must clause, its relevance score is increased. You can include multiple must clauses, and they’re combined with a logical AND (i.e., a document must satisfy all of them)."
   ]
  },
  {
   "cell_type": "code",
   "execution_count": null,
   "metadata": {},
   "outputs": [],
   "source": [
    "must_title = {\n",
    "    \"match\": {\"title\": \"Comet\"}\n",
    "}\n",
    "\n",
    "must_explanation = {\n",
    "    \"match\": {\"explanation\": \"nebula\"}\n",
    "}\n",
    "\n",
    "print(\"=== Must: Title Contains 'light' (size=2) ===\")\n",
    "res = es.search(\n",
    "    index=index_name,\n",
    "    # The size parameter limits the number of results returned. Default is 10.\n",
    "    body={\n",
    "        \"size\": 2,\n",
    "        \"query\": {\n",
    "            \"bool\": {\n",
    "                \"must\": [must_title]\n",
    "            }\n",
    "        }\n",
    "    }\n",
    ")\n",
    "for hit in res[\"hits\"][\"hits\"]:\n",
    "    print(f\"_score={hit['_score']:.2f}\")\n",
    "    pprint(hit[\"_source\"])\n",
    "\n",
    "\n",
    "print(\"\\n=== Must: Title Contains 'Comet' AND Explanation Contains 'nebula' (size=2) ===\")\n",
    "res = es.search(\n",
    "    index=index_name,\n",
    "    body={\n",
    "        \"size\": 2,\n",
    "        \"query\": {\n",
    "            \"bool\": {\n",
    "                \"must\": [\n",
    "                    must_title,\n",
    "                    must_explanation\n",
    "                ]\n",
    "            }\n",
    "        }\n",
    "    }\n",
    ")\n",
    "for hit in res[\"hits\"][\"hits\"]:\n",
    "    print(f\"_score={hit['_score']:.2f}\")\n",
    "    pprint(hit[\"_source\"])\n"
   ]
  },
  {
   "cell_type": "markdown",
   "metadata": {},
   "source": [
    "In the first query, you’ll notice the first document’s _score is higher than the second’s—clearly demonstrating how the must clause impacts relevance scoring."
   ]
  },
  {
   "cell_type": "markdown",
   "metadata": {},
   "source": [
    "## Must_not requests"
   ]
  },
  {
   "cell_type": "markdown",
   "metadata": {},
   "source": [
    "Although its name might imply the opposite of must, must_not actually behaves like a negated filter. Any document that matches a must_not clause is simply removed from the set of candidates."
   ]
  },
  {
   "cell_type": "code",
   "execution_count": null,
   "metadata": {},
   "outputs": [],
   "source": [
    "must_not_image = {\n",
    "    \"exists\": {\"field\": \"image_url\"}\n",
    "}\n",
    "\n",
    "print(\"=== Example 1: must_not exists image_url (size=2) ===\")\n",
    "res1 = es.search(\n",
    "    index=index_name,\n",
    "    body={\n",
    "        \"size\": 2,\n",
    "        \"query\": {\n",
    "            \"bool\": {\n",
    "                \"must_not\": [must_not_image]\n",
    "            }\n",
    "        }\n",
    "    }\n",
    ")\n",
    "for hit in res1[\"hits\"][\"hits\"]:\n",
    "    pprint(hit[\"_source\"])\n",
    "\n",
    "\n",
    "filter_date = {\n",
    "    \"range\": {\n",
    "        \"date\": {\"gte\": \"2024-09-09\", \"lte\": \"2024-09-30\"}\n",
    "    }\n",
    "}\n",
    "must_not_comet = {\n",
    "    \"prefix\": {\"title.keyword\": \"Comet\"}\n",
    "}\n",
    "\n",
    "print(\"\\n=== Example 2: range on date AND must_not prefix 'Comet' (size=2) ===\")\n",
    "res2 = es.search(\n",
    "    index=index_name,\n",
    "    body={\n",
    "        \"size\": 2,\n",
    "        \"query\": {\n",
    "            \"bool\": {\n",
    "                \"filter\":   [filter_date],\n",
    "                \"must_not\": [must_not_comet]\n",
    "            }\n",
    "        }\n",
    "    }\n",
    ")\n",
    "for hit in res2[\"hits\"][\"hits\"]:\n",
    "    # Only docs from 2024-09-27 whose title does NOT start with \"Comet\"\n",
    "    pprint(hit[\"_source\"])\n"
   ]
  },
  {
   "cell_type": "markdown",
   "metadata": {},
   "source": [
    "## Should requests"
   ]
  },
  {
   "cell_type": "markdown",
   "metadata": {},
   "source": [
    "The should clause in a bool query implements a logical OR across its clauses:\n",
    "\n",
    "1. **Standalone should (no must clauses)**  \n",
    "   - A document only needs to match at least one should clause to be included.\n",
    "\n",
    "2. **Combined must + should**  \n",
    "   - All must clauses still act as required filters that documents must satisfy every must.  \n",
    "   - Each should clause that matches simply boosts the document’s relevance score; non-matching should clauses do not exclude the document.\n"
   ]
  },
  {
   "cell_type": "code",
   "execution_count": null,
   "metadata": {},
   "outputs": [],
   "source": [
    "# This query will filter documents that match at least one the specified conditions\n",
    "query1 = {\n",
    "    \"size\": 2,\n",
    "    \"query\": {\n",
    "        \"bool\": {\n",
    "            \"should\": [\n",
    "                { \"match\": { \"title\": \"Comet\" } },\n",
    "                { \"match\": { \"explanation\": \"nebula\" } },\n",
    "                { \"match\": { \"authors\": \"David Martinez Delgado et al.\" } }\n",
    "            ],\n",
    "        }\n",
    "    }\n",
    "}\n",
    "\n",
    "print(\"=== Query 1: Standalone should (title OR explanation) ===\")\n",
    "res1 = es.search(index=index_name, body=query1)\n",
    "for hit in res1[\"hits\"][\"hits\"]:\n",
    "    print(f\"_score={hit['_score']:.2f}\")\n",
    "    pprint(hit[\"_source\"])\n",
    "\n",
    "\n",
    "# This query will filter documents that match the date \"2024-09-27\" and boost the score if the title or explanation matches\n",
    "query2 = {\n",
    "    \"size\": 2,\n",
    "    \"query\": {\n",
    "        \"bool\": {\n",
    "            \"must\": [\n",
    "                { \"range\": { \"date\": { \"gte\": \"2024-09-20\", \"lte\": \"2024-09-30\" } } }\n",
    "            ],\n",
    "            \"should\": [\n",
    "                { \"match\": { \"title\": \"Comet\" } },\n",
    "                { \"match\": { \"explanation\": \"comet\" } }\n",
    "            ]\n",
    "        }\n",
    "    }\n",
    "}\n",
    "\n",
    "print(\"\\n=== Query 2: must range 2024-09-20 to 2024-09-30 + should (boost if title/explanation) ===\")\n",
    "res2 = es.search(index=index_name, body=query2)\n",
    "for hit in res2[\"hits\"][\"hits\"]:\n",
    "    print(f\"_score={hit['_score']:.2f}\")\n",
    "    pprint(hit[\"_source\"])\n"
   ]
  },
  {
   "cell_type": "markdown",
   "metadata": {},
   "source": [
    "## Boosting request"
   ]
  },
  {
   "cell_type": "markdown",
   "metadata": {},
   "source": [
    "When you want to increase the relevance of certain documents, you attach a positive boost to your query clauses (for example, a match or term query) by adding a boost parameter—this simply multiplies that clause’s score contribution in the final _score. To softly penalize documents without filtering them out entirely, you use the boosting query: it takes a required positive query and a negative query, and for any document that matches the negative clause, it multiplies its overall score by a negative_boost factor (a value between 0 and 1)."
   ]
  },
  {
   "cell_type": "code",
   "execution_count": null,
   "metadata": {},
   "outputs": [],
   "source": [
    "from pprint import pprint\n",
    "from elasticsearch import Elasticsearch\n",
    "\n",
    "es = Elasticsearch('http://localhost:9200')\n",
    "index_name = \"apod\"\n",
    "\n",
    "# 1️⃣ Positive boost: increase score when explanation contains \"meteor\"\n",
    "#    Uses `boost` directly on a match query.\n",
    "print(\"=== Positive Boost: explanation contains 'meteor' (boost=2.0) ===\")\n",
    "pos_query = {\n",
    "    \"size\": 2,\n",
    "    \"query\": {\n",
    "        \"match\": {\n",
    "            \"explanation\": {\n",
    "                \"query\": \"meteor\",\n",
    "                \"boost\": 2.0      # positive boost on match\n",
=======
   "execution_count": 11,
   "metadata": {},
   "outputs": [
    {
     "name": "stdout",
     "output_type": "stream",
     "text": [
      "{'date': '2016-11-13', 'title': 'Super Moon vs Micro Moon', 'explanation': \"Explanation: What is so super about tomorrow's supermoon? Tomorrow, a full moon will occur that appears slightly larger and brighter than usual. The reason is that the Moon's fully illuminated phase occurs within a short time from perigee - when the Moon is its closest to the Earth in its elliptical orbit. Although the precise conditions that define a supermoon vary, tomorrow's supermoon will undoubtedly qualify because it will be the closest, largest, and brightest full moon in over 65 years. One reason supermoons are popular is because they are so easy to see -- just go outside at sunset and watch an impressive full moon rise! Since perigee actually occurs tomorrow morning, tonight's full moon, visible starting at sunset, should also be impressive. Pictured here, a supermoon from 2012 is compared to a micromoon -- when a full Moon occurs near the furthest part of the Moon's orbit -- so that it appears smaller and dimmer than usual. Given many definitions, at least one supermoon occurs each year, with another one coming next month (moon-th). However, a full moon will not come this close to Earth again until 2034.\", 'image_url': 'https://apod.nasa.gov/apod/image/1611/supermicromoon_paduraru_960.jpg', 'authors': 'Catalin Paduraru\\n'}\n",
      "{'date': '2016-11-13', 'title': 'Super Moon vs Micro Moon', 'explanation': \"Explanation: What is so super about tomorrow's supermoon? Tomorrow, a full moon will occur that appears slightly larger and brighter than usual. The reason is that the Moon's fully illuminated phase occurs within a short time from perigee - when the Moon is its closest to the Earth in its elliptical orbit. Although the precise conditions that define a supermoon vary, tomorrow's supermoon will undoubtedly qualify because it will be the closest, largest, and brightest full moon in over 65 years. One reason supermoons are popular is because they are so easy to see -- just go outside at sunset and watch an impressive full moon rise! Since perigee actually occurs tomorrow morning, tonight's full moon, visible starting at sunset, should also be impressive. Pictured here, a supermoon from 2012 is compared to a micromoon -- when a full Moon occurs near the furthest part of the Moon's orbit -- so that it appears smaller and dimmer than usual. Given many definitions, at least one supermoon occurs each year, with another one coming next month (moon-th). However, a full moon will not come this close to Earth again until 2034.\", 'image_url': 'https://apod.nasa.gov/apod/image/1611/supermicromoon_paduraru_960.jpg', 'authors': 'Catalin Paduraru\\n'}\n",
      "{'date': '2019-01-25', 'title': 'Moon Struck', 'explanation': \"Explanation: Craters produced by ancient impacts on the airless Moon have long been a familiar sight. But only since the 1990s have observers began to regularly record and study optical flashes on the lunar surface, likely explosions resulting from impacting meteoroids. Of course, the flashes are difficult to see against a bright, sunlit lunar surface. But during the January 21 total eclipse many imagers serendipitously captured a meteoroid impact flash against the dim red Moon. Found while examining images taken shortly before the total eclipse phase began, the flash is indicated in the inset above, near the Moon's darkened western limb. Estimates based on the flash duration recorded by the Moon Impact Detection and Analysis System (MIDAS) telescopes in southern Spain indicate the impactor's mass was about 10 kilograms and created a crater between seven and ten meters in diameter.\", 'image_url': 'https://apod.nasa.gov/apod/image/1901/2019_01_21_ZM_Single_crop1024.jpg', 'authors': 'Petr Horálek\\n'}\n",
      "{'date': '2022-02-15', 'title': 'Terminator Moon', 'explanation': \"Explanation: What's different about this Moon? It's the terminators. In the featured image, you can't directly see any terminator -- the line that divides the light of day from the dark of night. That's because the image is a digital composite of 29 near-terminator lunar strips. Terminator regions show the longest and most prominent shadows -- shadows which, by their contrast and length, allow a flat photograph to appear three-dimensional. The original images and data were taken near the Moon by NASA's Lunar Reconnaissance Orbiter. Many of the Moon's craters stand out because of the shadows they all cast to the right. The image shows in graphic detail that the darker regions known as maria are not just darker than the rest of the Moon -- they are flatter.\", 'image_url': 'https://apod.nasa.gov/apod/image/2202/TerminatorMoon_Shet_960.jpg', 'authors': 'NASA, Lunar Reconnaissance Orbiter, SVS, Jai, Neil Shet\\n'}\n",
      "{'date': '2019-01-25', 'title': 'Moon Struck', 'explanation': \"Explanation: Craters produced by ancient impacts on the airless Moon have long been a familiar sight. But only since the 1990s have observers began to regularly record and study optical flashes on the lunar surface, likely explosions resulting from impacting meteoroids. Of course, the flashes are difficult to see against a bright, sunlit lunar surface. But during the January 21 total eclipse many imagers serendipitously captured a meteoroid impact flash against the dim red Moon. Found while examining images taken shortly before the total eclipse phase began, the flash is indicated in the inset above, near the Moon's darkened western limb. Estimates based on the flash duration recorded by the Moon Impact Detection and Analysis System (MIDAS) telescopes in southern Spain indicate the impactor's mass was about 10 kilograms and created a crater between seven and ten meters in diameter.\", 'image_url': 'https://apod.nasa.gov/apod/image/1901/2019_01_21_ZM_Single_crop1024.jpg', 'authors': 'Petr Horálek\\n'}\n",
      "{'date': '2024-07-24', 'title': 'Exaggerated Moon', 'explanation': \"Explanation: Our Moon doesn't really have craters this big. Earth's Moon, Luna, also doesn't naturally show this spikey texture, and its colors are more subtle. But this digital creation is based on reality. The featured image is a digital composite of a good Moon image and surface height data taken from NASA's Lunar Orbiter Laser Altimeter (LOLA) mission -- and then exaggerated for educational understanding. The digital enhancements, for example, accentuate lunar highlands and show more clearly craters that illustrate the tremendous bombardment our Moon has been through during its 4.6-billion-year history. The dark areas, called maria, have fewer craters and were once seas of molten lava. Additionally, the image colors, although based on the moon's real composition, are changed and exaggerated. Here, a blue hue indicates a region that is iron rich, while orange indicates a slight excess of aluminum. Although the Moon has shown the same side to the Earth for billions of years, modern technology is allowing humanity to learn much more about it -- and how it affects the Earth.\", 'image_url': 'https://apod.nasa.gov/apod/image/2407/ExaggeratedMoon_Ibatulin_960.jpg', 'authors': 'NASA, Lunar Orbiter Laser Altimeter, Ildar Ibatullin\\n'}\n",
      "{'date': '2023-01-16', 'title': 'Moon Enhanced', 'explanation': \"Explanation: Our Moon doesn't really look like this. Earth's Moon, Luna, doesn't naturally show this rich texture, and its colors are more subtle. But this digital creation is based on reality. The featured image is a composite of multiple images and enhanced to bring up real surface features. The enhancements, for example, show more clearly craters that illustrate the tremendous bombardment our Moon has been through during its 4.6-billion-year history. The dark areas, called maria, have fewer craters and were once seas of molten lava. Additionally, the image colors, although based on the moon's real composition, are changed and exaggerated. Here, a blue hue indicates a region that is iron rich, while orange indicates a slight excess of aluminum. Although the Moon has shown the same side to the Earth for billions of years, modern technology is allowing humanity to learn much more about it -- and how it affects the Earth.\", 'image_url': 'https://apod.nasa.gov/apod/image/2301/MoonEnhanced_Mirza_960.jpg', 'authors': 'Darya Kawa Mirza\\n'}\n",
      "{'date': '2022-02-15', 'title': 'Terminator Moon', 'explanation': \"Explanation: What's different about this Moon? It's the terminators. In the featured image, you can't directly see any terminator -- the line that divides the light of day from the dark of night. That's because the image is a digital composite of 29 near-terminator lunar strips. Terminator regions show the longest and most prominent shadows -- shadows which, by their contrast and length, allow a flat photograph to appear three-dimensional. The original images and data were taken near the Moon by NASA's Lunar Reconnaissance Orbiter. Many of the Moon's craters stand out because of the shadows they all cast to the right. The image shows in graphic detail that the darker regions known as maria are not just darker than the rest of the Moon -- they are flatter.\", 'image_url': 'https://apod.nasa.gov/apod/image/2202/TerminatorMoon_Shet_960.jpg', 'authors': 'NASA, Lunar Reconnaissance Orbiter, SVS, Jai, Neil Shet\\n'}\n",
      "{'date': '2024-07-24', 'title': 'Exaggerated Moon', 'explanation': \"Explanation: Our Moon doesn't really have craters this big. Earth's Moon, Luna, also doesn't naturally show this spikey texture, and its colors are more subtle. But this digital creation is based on reality. The featured image is a digital composite of a good Moon image and surface height data taken from NASA's Lunar Orbiter Laser Altimeter (LOLA) mission -- and then exaggerated for educational understanding. The digital enhancements, for example, accentuate lunar highlands and show more clearly craters that illustrate the tremendous bombardment our Moon has been through during its 4.6-billion-year history. The dark areas, called maria, have fewer craters and were once seas of molten lava. Additionally, the image colors, although based on the moon's real composition, are changed and exaggerated. Here, a blue hue indicates a region that is iron rich, while orange indicates a slight excess of aluminum. Although the Moon has shown the same side to the Earth for billions of years, modern technology is allowing humanity to learn much more about it -- and how it affects the Earth.\", 'image_url': 'https://apod.nasa.gov/apod/image/2407/ExaggeratedMoon_Ibatulin_960.jpg', 'authors': 'NASA, Lunar Orbiter Laser Altimeter, Ildar Ibatullin\\n'}\n",
      "{'date': '2023-01-16', 'title': 'Moon Enhanced', 'explanation': \"Explanation: Our Moon doesn't really look like this. Earth's Moon, Luna, doesn't naturally show this rich texture, and its colors are more subtle. But this digital creation is based on reality. The featured image is a composite of multiple images and enhanced to bring up real surface features. The enhancements, for example, show more clearly craters that illustrate the tremendous bombardment our Moon has been through during its 4.6-billion-year history. The dark areas, called maria, have fewer craters and were once seas of molten lava. Additionally, the image colors, although based on the moon's real composition, are changed and exaggerated. Here, a blue hue indicates a region that is iron rich, while orange indicates a slight excess of aluminum. Although the Moon has shown the same side to the Earth for billions of years, modern technology is allowing humanity to learn much more about it -- and how it affects the Earth.\", 'image_url': 'https://apod.nasa.gov/apod/image/2301/MoonEnhanced_Mirza_960.jpg', 'authors': 'Darya Kawa Mirza\\n'}\n"
     ]
    }
   ],
   "source": [
    "query = {\n",
    "    \"query\": {\n",
    "        \"match\": {\n",
    "            \"title\": \"moon\"\n",
    "        }\n",
    "    }\n",
    "}\n",
    "\n",
    "response = es.search(index=\"apod\", body=query)\n",
    "for hit in response[\"hits\"][\"hits\"]:\n",
    "    print(hit[\"_source\"])"
   ]
  },
  {
   "cell_type": "markdown",
   "metadata": {},
   "source": [
    "**SQL equivalent:** `SELECT * FROM apod WHERE title LIKE '%moon%'`"
   ]
  },
  {
   "cell_type": "markdown",
   "metadata": {},
   "source": [
    "### Exact match with term"
   ]
  },
  {
   "cell_type": "code",
   "execution_count": 12,
   "metadata": {},
   "outputs": [
    {
     "name": "stdout",
     "output_type": "stream",
     "text": [
      "{'date': '2024-09-20', 'title': 'A Hazy Harvest Moon', 'explanation': \"Explanation: For northern hemisphere dwellers, September's Full Moon was the Harvest Moon. On September 17/18 the sunlit lunar nearside passed into shadow, just grazing Earth's umbra, the planet's dark, central shadow cone, in a partial lunar eclipse. Over the two and a half hours before dawn a camera fixed to a tripod was used to record this series of exposures as the eclipsed Harvest Moon set behind Spiš Castle in the hazy morning sky over eastern Slovakia. Famed in festival, story, and song, Harvest Moon is just the traditional name of the full moon nearest the autumnal equinox. According to lore the name is a fitting one. Despite the diminishing daylight hours as the growing season drew to a close, farmers could harvest crops by the light of a full moon shining on from dusk to dawn. This September's Harvest Moon was also known to some as a supermoon, a term becoming a traditional name for a full moon near perigee.\", 'image_url': 'https://apod.nasa.gov/apod/image/2409/2024_09_18_ZM_Spis_50mm-Pano_Postupka_1024c.png', 'authors': 'Petr Horálek, Institute of Physics in Opava\\n'}\n",
      "{'date': '2024-09-20', 'title': 'A Hazy Harvest Moon', 'explanation': \"Explanation: For northern hemisphere dwellers, September's Full Moon was the Harvest Moon. On September 17/18 the sunlit lunar nearside passed into shadow, just grazing Earth's umbra, the planet's dark, central shadow cone, in a partial lunar eclipse. Over the two and a half hours before dawn a camera fixed to a tripod was used to record this series of exposures as the eclipsed Harvest Moon set behind Spiš Castle in the hazy morning sky over eastern Slovakia. Famed in festival, story, and song, Harvest Moon is just the traditional name of the full moon nearest the autumnal equinox. According to lore the name is a fitting one. Despite the diminishing daylight hours as the growing season drew to a close, farmers could harvest crops by the light of a full moon shining on from dusk to dawn. This September's Harvest Moon was also known to some as a supermoon, a term becoming a traditional name for a full moon near perigee.\", 'image_url': 'https://apod.nasa.gov/apod/image/2409/2024_09_18_ZM_Spis_50mm-Pano_Postupka_1024c.png', 'authors': 'Petr Horálek, Institute of Physics in Opava\\n'}\n"
     ]
    }
   ],
   "source": [
    "query = {\n",
    "    \"query\": {\n",
    "        \"term\": {\n",
    "            \"title.keyword\": {\n",
    "                \"value\": \"A Hazy Harvest Moon\"\n",
>>>>>>> 41e02f7 (feat: dpl vs sql)
    "            }\n",
    "        }\n",
    "    }\n",
    "}\n",
<<<<<<< HEAD
    "res = es.search(index=index_name, body=pos_query)\n",
    "for hit in res[\"hits\"][\"hits\"]:\n",
    "    print(f\"_score={hit['_score']:.2f}\") \n",
    "    pprint(hit[\"_source\"])\n",
    "\n",
    "# 2️⃣ Negative boost: de-emphasize docs where explanation contains \"comet\"\n",
    "#    Uses the boosting query with match_all as the positive clause.\n",
    "print(\"\\n=== Negative Boost: explanation contains 'comet' (negative_boost=0.5) ===\")\n",
    "neg_query = {\n",
    "    \"size\": 2,\n",
    "    \"query\": {\n",
    "        \"boosting\": {\n",
    "            \"positive\": { \"match_all\": {} },        # match everything\n",
    "            \"negative\": {                           # demote these\n",
    "                \"match\": { \"explanation\": \"comet\" }\n",
    "            },\n",
    "            \"negative_boost\": 0.5                   # reduce score by 50% on match\n",
    "        }\n",
    "    }\n",
    "}\n",
    "res = es.search(index=index_name, body=neg_query)\n",
    "for hit in res[\"hits\"][\"hits\"]:\n",
    "    print(f\"_score={hit['_score']:.2f}\")\n",
    "    pprint(hit[\"_source\"])\n",
    "\n",
    "# 3️⃣ Combined boost: promote \"meteor\" matches and demote \"comet\" matches\n",
    "print(\"\\n=== Combined Boost: +2.0 for 'meteor', -0.5 for 'comet' ===\")\n",
    "both_query = {\n",
    "    \"size\": 2,\n",
    "    \"query\": {\n",
    "        \"boosting\": {\n",
    "            \"positive\": {\n",
    "                \"match\": {\n",
    "                    \"explanation\": {\n",
    "                        \"query\": \"meteor\",\n",
    "                        \"boost\": 2.0\n",
    "                    }\n",
    "                }\n",
    "            },\n",
    "            \"negative\": {\n",
    "                \"match\": {\n",
    "                    \"explanation\": \"comet\"\n",
    "                }\n",
    "            },\n",
    "            \"negative_boost\": 0.5\n",
    "        }\n",
    "    }\n",
    "}\n",
    "res = es.search(index=index_name, body=both_query)\n",
    "for hit in res[\"hits\"][\"hits\"]:\n",
    "    print(f\"_score={hit['_score']:.2f}\")\n",
    "    pprint(hit[\"_source\"])\n"
=======
    "\n",
    "response = es.search(index=\"apod\", body=query)\n",
    "for hit in response[\"hits\"][\"hits\"]:\n",
    "    print(hit[\"_source\"])\n"
>>>>>>> 41e02f7 (feat: dpl vs sql)
   ]
  },
  {
   "cell_type": "markdown",
   "metadata": {},
   "source": [
<<<<<<< HEAD
    "# Advanced features"
=======
    "**SQL equivalent:** `SELECT * FROM apod WHERE title = 'A Hazy Harvest Moon'`"
   ]
  },
  {
   "cell_type": "markdown",
   "metadata": {},
   "source": [
    "### Range Query (Numeric/date filtering)"
   ]
  },
  {
   "cell_type": "code",
   "execution_count": 13,
   "metadata": {},
   "outputs": [
    {
     "name": "stdout",
     "output_type": "stream",
     "text": [
      "{'date': '2020-12-31', 'title': 'Trail of the Returner', 'explanation': \"Explanation: Familiar stars of a northern winter's night shine in this night skyview, taken near Zhangye, Gansu, China and the border with Inner Mongolia. During the early hours of December 17 Orion is near center in the single exposure that captures a fireball streaking across the sky, almost as bright as yellowish Mars shining on the right. Splitting Gemini's twin bright stars Castor and Pollux near the top of the frame, the fireball's trail and timing are consistent with the second skipping atmospheric entry of the Chang'e 5 mission's returner capsule. The returner capsule was successfully recovered after landing in Inner Mongolia, planet Earth with about 2 kilograms of lunar material on board. The lunar sample is thought to contain relatively young material collected near the Mons Rumker region of the Moon's Oceanus Procellarum. Launched on November 23 UT, China's Chang'e 5 mission is the first lunar sample return mission since the Soviet Union’s Luna 24 mission in 1976.\", 'image_url': 'https://apod.nasa.gov/apod/image/2012/fireball_trail2.jpg', 'authors': 'Zhuoxiao Wang\\n'}\n",
      "{'date': '2020-12-28', 'title': 'M16: Inside the Eagle Nebula', 'explanation': 'Explanation: From afar, the whole thing looks like an Eagle. A closer look at the Eagle Nebula, however, shows the bright region is actually a window into the center of a larger dark shell of dust. Through this window, a brightly-lit workshop appears where a whole open cluster of stars is being formed. In this cavity tall pillars and round globules of dark dust and cold molecular gas remain where stars are still forming. Already visible are several young bright blue stars whose light and winds are burning away and pushing back the remaining filaments and walls of gas and dust. The Eagle emission nebula, tagged M16, lies about 6500 light years away, spans about 20 light-years, and is visible with binoculars toward the constellation of the Serpent (Serpens). This picture involved over 12 hours of imaging and combines three specific emitted colors emitted by sulfur (colored as red), hydrogen (yellow), and oxygen (blue).', 'image_url': 'https://apod.nasa.gov/apod/image/2012/EagleNebula_Paladini_960.jpg', 'authors': 'Nicolas Paladini\\n'}\n",
      "{'date': '2020-12-27', 'title': 'Cosmic Latte: The Average Color of the Universe', 'explanation': 'Explanation: What color is the universe? More precisely, if the entire sky were smeared out, what color would the final mix be? This whimsical question came up when trying to determine what stars are commonplace in nearby galaxies. The answer, depicted above, is a conditionally perceived shade of beige. In computer parlance: #FFF8E7. To determine this, astronomers computationally averaged the light emitted by one of the larger samples of galaxies analyzed: the 200,000 galaxies of the 2dF survey. The resulting cosmic spectrum has some emission in all parts of the electromagnetic spectrum, but a single perceived composite color. This color has become much less blue over the past 10 billion years, indicating that redder stars are becoming more prevalent. In a contest to better name the color, notable entries included skyvory, univeige, and the winner: cosmic latte.', 'image_url': 'https://apod.nasa.gov/apod/image/2012/cosmiclatte_jhu_960.jpg', 'authors': 'Karl Glazebrook, Ivan Baldry\\n'}\n",
      "{'date': '2020-12-26', 'title': 'Fox Fur, Unicorn, and Christmas Tree', 'explanation': \"Explanation: Clouds of glowing hydrogen gas fill this colorful skyscape in the faint but fanciful constellation Monoceros, the Unicorn. A star forming region cataloged as NGC 2264, the complex jumble of cosmic gas and dust is about 2,700 light-years distant and mixes reddish emission nebulae excited by energetic light from newborn stars with dark interstellar dust clouds. Where the otherwise obscuring dust clouds lie close to the hot, young stars they also reflect starlight, forming blue reflection nebulae. The telescopic image spans about 1.5 degrees or 3 full moons, covering nearly 80 light-years at the distance of NGC 2264. Its cast of cosmic characters includes the the Fox Fur Nebula, whose dusty, convoluted pelt lies left of center, bright variable star S Monocerotis immersed in the blue-tinted haze near center, and the Cone Nebula pointing in from the right side of the frame. Of course, the stars of NGC 2264 are also known as the Christmas Tree star cluster. The triangular tree shape is seen on its side here. Traced by brighter stars it has its apex at the Cone Nebula. The tree's broader base is centered near S Monocerotis.\", 'image_url': 'https://apod.nasa.gov/apod/image/2012/ChristmasTree-ConeNebula-CumeadaObservatoryDSA-net1100.jpg', 'authors': 'Miguel Claro,TWAN,Dark Sky Alqueva\\n'}\n",
      "{'date': '2020-12-25', 'title': 'Northern Winter Night', 'explanation': \"Explanation: Orion always seems to come up sideways on northern winter evenings. Those familiar stars of the constellation of the Hunter are caught above the trees in this colorful night skyscape. Not a star at all but still visible to eye, the Great Nebula of Orion shines below the Hunter's belt stars. The camera's exposure reveals the stellar nursery's faint pinkish glow. Betelgeuse, giant star at Orion's shoulder, has the color of warm and cozy terrestrial lighting, but so does another familiar stellar giant, Aldebaran. Alpha star of the constellation Taurus the Bull, Aldebaran anchors the recognizable V-shape traced by the Hyades Cluster toward the top of the starry frame.\", 'image_url': 'https://apod.nasa.gov/apod/image/2012/WinterSceneBlock.jpg', 'authors': 'Adam Block\\n'}\n",
      "{'date': '2020-12-24', 'title': 'Portrait of NGC 1055', 'explanation': \"Explanation: Big, beautiful spiral galaxy NGC 1055 is a dominant member of a small galaxy group a mere 60 million light-years away toward the aquatically intimidating constellation Cetus. Seen edge-on, the island universe spans over 100,000 light-years, a little larger than our own Milky Way galaxy. The colorful, spiky stars decorating this cosmic portrait of NGC 1055 are in the foreground, well within the Milky Way. But the telltale pinkish star forming regions are scattered through winding dust lanes along the distant galaxy's thin disk. With a smattering of even more distant background galaxies, the deep image also reveals a boxy halo that extends far above and below the central bluge and disk of NGC 1055. The halo itself is laced with faint, narrow structures, and could represent the mixed and spread out debris from a satellite galaxy disrupted by the larger spiral some 10 billion years ago.\", 'image_url': 'https://apod.nasa.gov/apod/image/2012/NGC1055_MP_1024c.jpg', 'authors': 'Martin Pugh\\n'}\n",
      "{'date': '2020-12-23', 'title': 'Jupiter Meets Saturn: A Red Spotted Great Conjunction', 'explanation': \"Explanation: It was time for their close-up. Two days ago Jupiter and Saturn passed a tenth of a degree from each other in what is known a Great Conjunction. Although the two planets pass each other on the sky every 20 years, this was the closest pass in nearly four centuries. Taken early in day of the Great Conjunction, the featured multiple-exposure combination captures not only both giant planets in a single frame, but also Jupiter's four largest moons (left to right) Callisto, Ganymede, Io, and Europa -- and Saturn's largest moon Titan. If you look very closely, the clear Chilescope image even captures Jupiter's Great Red Spot. The now-separating planets can still be seen remarkably close -- within about a degree -- as they set just after the Sun, toward the west, each night for the remainder of the year.\", 'image_url': 'https://apod.nasa.gov/apod/image/2012/GreatConjunction_Peach_960.jpg', 'authors': 'Damian Peach\\n'}\n",
      "{'date': '2020-12-22', 'title': 'Trifid Pillars and Jets', 'explanation': \"Explanation: Dust pillars are like interstellar mountains. They survive because they are more dense than their surroundings, but they are being slowly eroded away by a hostile environment. Visible in the featured picture is the end of a huge gas and dust pillar in the Trifid Nebula (M20), punctuated by a smaller pillar pointing up and an unusual jet pointing to the left. Many of the dots are newly formed low-mass stars. A star near the small pillar's end is slowly being stripped of its accreting gas by radiation from a tremendously brighter star situated off the top of the image. The jet extends nearly a light-year and would not be visible without external illumination. As gas and dust evaporate from the pillars, the hidden stellar source of this jet will likely be uncovered, possibly over the next 20,000 years.\", 'image_url': 'https://apod.nasa.gov/apod/image/2012/Trifid_HubbleMehla_1080.jpg', 'authors': 'NASA,ESA,Hubble Space Telescope,HLA,Advait Mehla\\n'}\n",
      "{'date': '2020-12-21', 'title': 'Solstice: Sunrises Around the Year', 'explanation': \"Explanation: Does the Sun always rise in the same direction? No. As the months change, the direction toward the rising Sun changes, too. The featured image shows the direction of sunrise every month during 2019 as seen from near the city of Amman, Jordan. The camera in the image is always facing due east, with north toward the left and south toward the right. Although the Sun always rises in the east in general, it rises furthest to the south of east on the December solstice, and furthest north of east on the June solstice. Today is the December solstice, the day of least sunlight in the Northern Hemisphere and of most sunlight in the Southern Hemisphere. In many countries, the December Solstice is considered an official change in season: for example the first day of winter in the North. Solar heating and stored energy in the Earth's surface and atmosphere are near their lowest during winter, making the winter months usually the coldest of the year. On the brighter side, in the north, daylight hours will now increase every day from until June.\", 'image_url': 'https://apod.nasa.gov/apod/image/2012/SunRiseYear_Abbadi_960.jpg', 'authors': 'Zaid M. Al-Abbadi\\n'}\n",
      "{'date': '2020-12-20', 'title': 'A Volcanic Great Conjunction', 'explanation': \"Explanation: Where can I see the Great Conjunction? Near where the Sun just set. Directionally, this close passing of Jupiter and Saturn will be toward the southwest. Since the planetary pair, the Sun, and the Earth are nearly in a geometric straight line, the planets will be seen to set just where the Sun had set -- from every location on Earth. When can I see the Great Conjunction? Just after sunset. Since the two planets are so near the Sun directionally, they always appear in the sky near the Sun, but can best be seen when the Earth blocks the Sun but not the planets: sunset. Soon thereafter, Jupiter and Saturn will also set, so don't be late! Is tomorrow night the only night that I can see the Great Conjunction? Tomorrow night the jovian giants will appear the closest, but on any night over the next few days they will appear unusually close. Technically, the closest pass happens on 21 December at 18:20 UTC. Will there be an erupting volcano on the horizon near the Great Conjunction? Yes, for example if you live in Guatemala where the featured image was taken. Otherwise, generally, no. In the featured image captured last week, Jupiter and Saturn are visible toward the right, just above a tree, and bathed in the diffuse glow of zodiacal light.\", 'image_url': 'https://apod.nasa.gov/apod/image/2012/VolcanicConjunction_Sojuel_1080.jpg', 'authors': 'Francisco Sojuel\\n'}\n"
     ]
    }
   ],
   "source": [
    "# We filter documents by a date range\n",
    "query = {\n",
    "    \"query\": {\n",
    "        \"range\": {\n",
    "            \"date\": {\n",
    "                \"gte\": \"2020-01-01\",\n",
    "                \"lte\": \"2020-12-31\"\n",
    "            }\n",
    "        }\n",
    "    }\n",
    "}\n",
    "\n",
    "response = es.search(index=\"apod\", body=query)\n",
    "for hit in response[\"hits\"][\"hits\"]:\n",
    "    print(hit[\"_source\"])\n"
   ]
  },
  {
   "cell_type": "markdown",
   "metadata": {},
   "source": [
    "**SQL equivalent:** `SELECT * FROM apod WHERE date BETWEEN '2020-01-01' AND '2020-12-31'`"
   ]
  },
  {
   "cell_type": "markdown",
   "metadata": {},
   "source": [
    "### Fuzzy Query (Typo-tolerant search)"
   ]
  },
  {
   "cell_type": "code",
   "execution_count": 14,
   "metadata": {},
   "outputs": [
    {
     "name": "stdout",
     "output_type": "stream",
     "text": [
      "{'date': '2021-09-18', 'title': \"Rubin's Galaxy\", 'explanation': \"Explanation: In this Hubble Space Telescope image the bright, spiky stars lie in the foreground toward the heroic northern constellation Perseus and well within our own Milky Way galaxy. In sharp focus beyond is UGC 2885, a giant spiral galaxy about 232 million light-years distant. Some 800,000 light-years across compared to the Milky Way's diameter of 100,000 light-years or so, it has around 1 trillion stars. That's about 10 times as many stars as the Milky Way. Part of an investigation to understand how galaxies can grow to such enormous sizes, UGC 2885 was also part of An Interesting Voyage and astronomer Vera Rubin's pioneering study of the rotation of spiral galaxies. Her work was the first to convincingly demonstrate the dominating presence of dark matter in our universe.\", 'image_url': 'https://apod.nasa.gov/apod/image/2109/RubinsGalaxy_hst1024.jpg', 'authors': 'NASA,ESA,B. Holwerda (University of Louisville)\\n'}\n",
      "{'date': '2020-01-25', 'title': \"Rubin's Galaxy\", 'explanation': \"Explanation: In this Hubble Space Telescope image the bright, spiky stars lie in the foreground toward the heroic northern constellation Perseus and well within our own Milky Way galaxy. In sharp focus beyond is UGC 2885, a giant spiral galaxy about 232 million light-years distant. Some 800,000 light-years across compared to the Milky Way's diameter of 100,000 light-years or so, it has around 1 trillion stars. That's about 10 times as many stars as the Milky Way. Part of a current investigation to understand how galaxies can grow to such enormous sizes, UGC 2885 was also part of astronomer Vera Rubin's pioneering study of the rotation of spiral galaxies. Her work was the first to convincingly demonstrate the dominating presence of dark matter in our universe.\", 'image_url': 'https://apod.nasa.gov/apod/image/2001/RubinsGalaxy_hst1024.jpg', 'authors': 'NASA, ESA, B. Holwerda (University of Louisville)\\n'}\n",
      "{'date': '2020-01-25', 'title': \"Rubin's Galaxy\", 'explanation': \"Explanation: In this Hubble Space Telescope image the bright, spiky stars lie in the foreground toward the heroic northern constellation Perseus and well within our own Milky Way galaxy. In sharp focus beyond is UGC 2885, a giant spiral galaxy about 232 million light-years distant. Some 800,000 light-years across compared to the Milky Way's diameter of 100,000 light-years or so, it has around 1 trillion stars. That's about 10 times as many stars as the Milky Way. Part of a current investigation to understand how galaxies can grow to such enormous sizes, UGC 2885 was also part of astronomer Vera Rubin's pioneering study of the rotation of spiral galaxies. Her work was the first to convincingly demonstrate the dominating presence of dark matter in our universe.\", 'image_url': 'https://apod.nasa.gov/apod/image/2001/RubinsGalaxy_hst1024.jpg', 'authors': 'NASA, ESA, B. Holwerda (University of Louisville)\\n'}\n",
      "{'date': '2023-04-05', 'title': \"Rubin's Galaxy\", 'explanation': \"Explanation: In this Hubble Space Telescope image the bright, spiky stars lie in the foreground toward the heroic northern constellation Perseus and well within our own Milky Way galaxy. In sharp focus beyond is UGC 2885, a giant spiral galaxy about 232 million light-years distant. Some 800,000 light-years across compared to the Milky Way's diameter of 100,000 light-years or so, it has around 1 trillion stars. That's about 10 times as many stars as the Milky Way. Part of an investigation to understand how galaxies can grow to such enormous sizes, UGC 2885 was also part of An Interesting Voyage and astronomer Vera Rubin's pioneering study of the rotation of spiral galaxies. Her work was the first to convincingly demonstrate the dominating presence of dark matter in our universe.\", 'image_url': 'https://apod.nasa.gov/apod/image/2304/RubinsGalaxy_hst1024.jpg', 'authors': 'NASA, ESA, B. Holwerda (University of Louisville)\\n'}\n",
      "{'date': '2022-07-05', 'title': 'A Molten Galaxy Einstein Ring Galaxy', 'explanation': \"Explanation: It is difficult to hide a galaxy behind a cluster of galaxies. The closer cluster's gravity will act like a huge lens, pulling images of the distant galaxy around the sides and greatly distorting them. This is just the case observed in the featured image recently re-processed image from the Hubble Space Telescope. The cluster GAL-CLUS-022058c is composed of many galaxies and is lensing the image of a yellow-red background galaxy into arcs seen around the image center. Dubbed a molten Einstein ring for its unusual shape, four images of the same background galaxy have been identified. Typically, a foreground galaxy cluster can only create such smooth arcs if most of its mass is smoothly distributed -- and therefore not concentrated in the cluster galaxies visible. Analyzing the positions of these gravitational arcs gives astronomers a method to estimate the dark matter distribution in galaxy clusters, as well as infer when the stars in these early galaxies began to form.\", 'image_url': 'https://apod.nasa.gov/apod/image/2207/MoltenEinsteinRing_HubbleLodge_960.jpg', 'authors': 'ESA, Hubble, NASA, S. Jha, Jonathan Lodge\\n'}\n",
      "{'date': '2022-07-05', 'title': 'A Molten Galaxy Einstein Ring Galaxy', 'explanation': \"Explanation: It is difficult to hide a galaxy behind a cluster of galaxies. The closer cluster's gravity will act like a huge lens, pulling images of the distant galaxy around the sides and greatly distorting them. This is just the case observed in the featured image recently re-processed image from the Hubble Space Telescope. The cluster GAL-CLUS-022058c is composed of many galaxies and is lensing the image of a yellow-red background galaxy into arcs seen around the image center. Dubbed a molten Einstein ring for its unusual shape, four images of the same background galaxy have been identified. Typically, a foreground galaxy cluster can only create such smooth arcs if most of its mass is smoothly distributed -- and therefore not concentrated in the cluster galaxies visible. Analyzing the positions of these gravitational arcs gives astronomers a method to estimate the dark matter distribution in galaxy clusters, as well as infer when the stars in these early galaxies began to form.\", 'image_url': 'https://apod.nasa.gov/apod/image/2207/MoltenEinsteinRing_HubbleLodge_960.jpg', 'authors': 'ESA, Hubble, NASA, S. Jha, Jonathan Lodge\\n'}\n",
      "{'date': '2021-05-23', 'title': 'The Galaxy Tree', 'explanation': 'Explanation: First came the trees. In the town of Salamanca, Spain, the photographer noticed how distinctive a grove of oak trees looked after being pruned. Next came the galaxy. The photographer stayed up until 2 am, waiting until the Milky Way Galaxy rose above the level of a majestic looking oak. From this carefully chosen perspective, dust lanes in the galaxy appear to be natural continuations to branches of the tree. Last came the light. A flashlight was used on the far side of the tree to project a silhouette. By coincidence, other trees also appeared as similar silhouettes across the relatively bright horizon. The featured image was captured as a single 30-second frame in 2015 and processed to digitally enhance the Milky Way.', 'image_url': 'https://apod.nasa.gov/apod/image/2105/MWTree_Toledano_1080.jpg', 'authors': 'César Vega Toledano, Judy Schmidt\\n'}\n",
      "{'date': '2019-10-15', 'title': 'The Galaxy Above', 'explanation': \"Explanation: Have you contemplated your home galaxy lately? If your sky looked like this, perhaps you'd contemplate it more often! The featured picture is actually a composite of two images taken last month from the same location in south Brazil and with the same camera -- but a few hours apart. The person in the image -- also the astrophotographer -- has much to see in the Milky Way Galaxy above. The central band of our home Galaxy stretches diagonally up from the lower left. This band is dotted with spectacular sights including dark nebular filaments, bright blue stars, and red nebulas. Millions of fainter and redder stars fill in the deep Galactic background. To the lower right of the Milky Way are the colorful gas and dust clouds of Rho Ophiuchi, featuring the bright orange star Antares. On this night, just above and to the right of Antares was the bright planet Jupiter. The sky is so old and so familiar that humanity has formulated many stories about it, some of which inspired this very picture.\", 'image_url': 'https://apod.nasa.gov/apod/image/1910/MilkyWayAbove_Guerra_960.jpg', 'authors': 'Rodrigo Guerra\\n'}\n",
      "{'date': '2019-04-30', 'title': 'Meteor Misses Galaxy', 'explanation': \"Explanation: The galaxy was never in danger. For one thing, the Triangulum galaxy (M33), pictured, is much bigger than the tiny grain of rock at the head of the meteor. For another, the galaxy is much farther away -- in this instance 3 million light years as opposed to only about 0.0003 light seconds. Even so, the meteor's path took it angularly below the galaxy. Also the wind high in Earth's atmosphere blew the meteor's glowing evaporative molecule train away from the galaxy, in angular projection. Still, the astrophotographer was quite lucky to capture both a meteor and a galaxy in a single exposure -- which was subsequently added to two other images of M33 to bring up the spiral galaxy's colors. At the end, the meteor was gone in a second, but the galaxy will last billions of years.\", 'image_url': 'https://apod.nasa.gov/apod/image/1904/M33Meteor_Chokshi_960.jpg', 'authors': 'Aman Chokshi\\n'}\n",
      "{'date': '2018-12-30', 'title': 'The Galaxy Tree', 'explanation': 'Explanation: First came the trees. In the town of Salamanca, Spain, the photographer noticed how distinctive a grove of oak trees looked after being pruned. Next came the galaxy. The photographer stayed up until 2 am, waiting until the Milky Way Galaxy rose above the level of a majestic looking oak. From this carefully chosen perspective, dust lanes in the galaxy appear to be natural continuations to branches of the tree. Last came the light. A flashlight was used on the far side of the tree to project a silhouette. By coincidence, other trees also appeared as similar silhouettes across the relatively bright horizon. The featured image was captured as a single 30-second frame in 2015 and processed to digitally enhance the Milky Way.', 'image_url': 'https://apod.nasa.gov/apod/image/1505/MWTree_Toledano_1080.jpg', 'authors': 'C�sar Vega Toledano, Judy Schmidt\\n'}\n"
     ]
    }
   ],
   "source": [
    "# Typo-tolerant search with fuzzy\n",
    "query = {\n",
    "    \"query\": {\n",
    "        \"fuzzy\": {\n",
    "            \"title\": {\n",
    "                \"value\": \"Galaxy\",\n",
    "                \"fuzziness\": \"AUTO\"\n",
    "            }\n",
    "        }\n",
    "    }\n",
    "}\n",
    "\n",
    "response = es.search(index=\"apod\", body=query)\n",
    "for hit in response[\"hits\"][\"hits\"]:\n",
    "    print(hit[\"_source\"])"
   ]
  },
  {
   "cell_type": "markdown",
   "metadata": {},
   "source": [
    "**SQL equivalent:** No direct equivalent, similar to a `LIKE` with typos"
>>>>>>> 41e02f7 (feat: dpl vs sql)
   ]
  },
  {
   "cell_type": "markdown",
   "metadata": {},
   "source": [
    "# Conclusion"
   ]
  },
  {
   "cell_type": "markdown",
   "metadata": {},
   "source": [
    "# References"
   ]
  },
  {
   "cell_type": "markdown",
   "metadata": {},
   "source": [
    "1. <a id=\"freecodecamp\"></a> [Elasticsearch Course for Beginners - FreeCodeCamp](https://www.youtube.com/watch?v=a4HBKEda_F8&ab_channel=freeCodeCamp.org)\n",
    "\n",
    "2. <a id=\"elasticdoc\"></a> [Elastic Official Documentation](https://www.elastic.co/docs/get-started)\n",
    "\n",
    "3. <a id=\"elasticlab\"></a> [Elastic Search Lab - Tutorials](https://www.elastic.co/search-labs/tutorials)\n",
    "\n",
    "4. <a id=\"elasticlabBoolQueries\"> [Elastic Search Lab - Tutortial - Filters](https://www.elastic.co/search-labs/tutorials/search-tutorial/full-text-search/filters)\n",
    "\n",
    "5. <a id=\"elasticscore\"></a> [Elastic Search Lab - Understanding Elasticsearch scoring and the Explain API](https://www.elastic.co/search-labs/blog/elasticsearch-scoring-and-explain-api)\n",
    "\n",
    "6. <a id=\"mustnot\"></a> [Soumendra - Stack Overflow - Difference between must_not and filter in elasticsearch](https://stackoverflow.com/questions/47226479/difference-between-must-not-and-filter-in-elasticsearch)"
   ]
  },
  {
   "cell_type": "markdown",
   "metadata": {},
   "source": [
    "# Process and Work Distribution\n"
   ]
  }
 ],
 "metadata": {
  "kernelspec": {
   "display_name": "api_test",
   "language": "python",
   "name": "python3"
  },
  "language_info": {
   "codemirror_mode": {
    "name": "ipython",
    "version": 3
   },
   "file_extension": ".py",
   "mimetype": "text/x-python",
   "name": "python",
   "nbconvert_exporter": "python",
   "pygments_lexer": "ipython3",
   "version": "3.13.2"
  }
 },
 "nbformat": 4,
 "nbformat_minor": 2
}
