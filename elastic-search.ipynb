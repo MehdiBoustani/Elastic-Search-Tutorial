{
 "cells": [
  {
   "cell_type": "markdown",
   "metadata": {},
   "source": [
    "# Exploring Elastic Search\n",
    "\n",
    "**Mehdi Boustani** - S221594  \n",
    "**Nicolas Schneiders** - S203005  \n",
    "**Maxim Piron** - S211493  \n",
    "**Andreas Stistrup** - S212891  \n",
    "\n",
    "*Faculty of Applied Sciences, University of Liège*\n",
    "\n",
    "April 28, 2025\n"
   ]
  },
  {
   "cell_type": "markdown",
   "metadata": {},
   "source": [
    "# Introduction"
   ]
  },
  {
   "cell_type": "markdown",
   "metadata": {},
   "source": []
  },
  {
   "cell_type": "markdown",
   "metadata": {},
   "source": [
    "# Installation & configuration"
   ]
  },
  {
   "cell_type": "markdown",
   "metadata": {},
   "source": [
    "## Docker"
   ]
  },
  {
   "cell_type": "markdown",
   "metadata": {},
   "source": [
    "### Installing Elasticsearch\n",
    "If you don't have Docker installed yet, you can download and install it from the [official website](https://www.docker.com/). \n",
    "\n",
    "Once Docker is running on your machine, launch Elasticsearch using the following command:"
   ]
  },
  {
   "cell_type": "code",
   "execution_count": 6,
   "metadata": {},
   "outputs": [
    {
     "name": "stderr",
     "output_type": "stream",
     "text": [
      "docker: Error response from daemon: Conflict. The container name \"/elasticsearch\" is already in use by container \"f5202efe872c71b2f570edf62510a0293804c4873191b69d0b92032d4ce8e35c\". You have to remove (or rename) that container to be able to reuse that name.\n",
      "See 'docker run --help'.\n"
     ]
    }
   ],
   "source": [
    "!docker run -p 127.0.0.1:9200:9200 -d --name elasticsearch \\\n",
    "  -e \"discovery.type=single-node\" \\\n",
    "  -e \"xpack.security.enabled=false\" \\\n",
    "  -e \"xpack.license.self_generated.type=trial\" \\\n",
    "  -v \"elasticsearch-data:/usr/share/elasticsearch/data\" \\\n",
    "  docker.elastic.co/elasticsearch/elasticsearch:8.15.0\n"
   ]
  },
  {
   "cell_type": "markdown",
   "metadata": {},
   "source": [
    "## Dependencies  \n",
    "Let's install all the necessary Python packages we'll be using throughout this tutorial.\n"
   ]
  },
  {
   "cell_type": "code",
   "execution_count": 12,
   "metadata": {},
   "outputs": [
    {
     "name": "stdout",
     "output_type": "stream",
     "text": [
      "Requirement already satisfied: requests in c:\\users\\boust\\appdata\\local\\packages\\pythonsoftwarefoundation.python.3.11_qbz5n2kfra8p0\\localcache\\local-packages\\python311\\site-packages (2.32.3)\n",
      "Collecting elasticsearch\n",
      "  Downloading elasticsearch-9.0.1-py3-none-any.whl.metadata (8.5 kB)\n",
      "Collecting pandas\n",
      "  Downloading pandas-2.2.3-cp311-cp311-win_amd64.whl.metadata (19 kB)\n",
      "Collecting matplotlib\n",
      "  Downloading matplotlib-3.10.1-cp311-cp311-win_amd64.whl.metadata (11 kB)\n",
      "Requirement already satisfied: charset-normalizer<4,>=2 in c:\\users\\boust\\appdata\\local\\packages\\pythonsoftwarefoundation.python.3.11_qbz5n2kfra8p0\\localcache\\local-packages\\python311\\site-packages (from requests) (3.4.2)\n",
      "Requirement already satisfied: idna<4,>=2.5 in c:\\users\\boust\\appdata\\local\\packages\\pythonsoftwarefoundation.python.3.11_qbz5n2kfra8p0\\localcache\\local-packages\\python311\\site-packages (from requests) (3.10)\n",
      "Requirement already satisfied: urllib3<3,>=1.21.1 in c:\\users\\boust\\appdata\\local\\packages\\pythonsoftwarefoundation.python.3.11_qbz5n2kfra8p0\\localcache\\local-packages\\python311\\site-packages (from requests) (2.4.0)\n",
      "Requirement already satisfied: certifi>=2017.4.17 in c:\\users\\boust\\appdata\\local\\packages\\pythonsoftwarefoundation.python.3.11_qbz5n2kfra8p0\\localcache\\local-packages\\python311\\site-packages (from requests) (2025.4.26)\n",
      "Collecting elastic-transport<9,>=8.15.1 (from elasticsearch)\n",
      "  Downloading elastic_transport-8.17.1-py3-none-any.whl.metadata (3.8 kB)\n",
      "Requirement already satisfied: python-dateutil in c:\\users\\boust\\appdata\\local\\packages\\pythonsoftwarefoundation.python.3.11_qbz5n2kfra8p0\\localcache\\local-packages\\python311\\site-packages (from elasticsearch) (2.9.0.post0)\n",
      "Requirement already satisfied: typing-extensions in c:\\users\\boust\\appdata\\local\\packages\\pythonsoftwarefoundation.python.3.11_qbz5n2kfra8p0\\localcache\\local-packages\\python311\\site-packages (from elasticsearch) (4.12.2)\n",
      "Collecting numpy>=1.23.2 (from pandas)\n",
      "  Downloading numpy-2.2.5-cp311-cp311-win_amd64.whl.metadata (60 kB)\n",
      "     ---------------------------------------- 0.0/60.8 kB ? eta -:--:--\n",
      "     ---------------------------------------- 60.8/60.8 kB 3.2 MB/s eta 0:00:00\n",
      "Requirement already satisfied: pytz>=2020.1 in c:\\users\\boust\\appdata\\local\\packages\\pythonsoftwarefoundation.python.3.11_qbz5n2kfra8p0\\localcache\\local-packages\\python311\\site-packages (from pandas) (2025.2)\n",
      "Collecting tzdata>=2022.7 (from pandas)\n",
      "  Downloading tzdata-2025.2-py2.py3-none-any.whl.metadata (1.4 kB)\n",
      "Collecting contourpy>=1.0.1 (from matplotlib)\n",
      "  Downloading contourpy-1.3.2-cp311-cp311-win_amd64.whl.metadata (5.5 kB)\n",
      "Collecting cycler>=0.10 (from matplotlib)\n",
      "  Downloading cycler-0.12.1-py3-none-any.whl.metadata (3.8 kB)\n",
      "Collecting fonttools>=4.22.0 (from matplotlib)\n",
      "  Downloading fonttools-4.57.0-cp311-cp311-win_amd64.whl.metadata (104 kB)\n",
      "     ---------------------------------------- 0.0/104.6 kB ? eta -:--:--\n",
      "     -------------------------------------- 104.6/104.6 kB 5.9 MB/s eta 0:00:00\n",
      "Collecting kiwisolver>=1.3.1 (from matplotlib)\n",
      "  Downloading kiwisolver-1.4.8-cp311-cp311-win_amd64.whl.metadata (6.3 kB)\n",
      "Requirement already satisfied: packaging>=20.0 in c:\\users\\boust\\appdata\\local\\packages\\pythonsoftwarefoundation.python.3.11_qbz5n2kfra8p0\\localcache\\local-packages\\python311\\site-packages (from matplotlib) (24.2)\n",
      "Collecting pillow>=8 (from matplotlib)\n",
      "  Downloading pillow-11.2.1-cp311-cp311-win_amd64.whl.metadata (9.1 kB)\n",
      "Collecting pyparsing>=2.3.1 (from matplotlib)\n",
      "  Downloading pyparsing-3.2.3-py3-none-any.whl.metadata (5.0 kB)\n",
      "Requirement already satisfied: six>=1.5 in c:\\users\\boust\\appdata\\local\\packages\\pythonsoftwarefoundation.python.3.11_qbz5n2kfra8p0\\localcache\\local-packages\\python311\\site-packages (from python-dateutil->elasticsearch) (1.17.0)\n",
      "Downloading elasticsearch-9.0.1-py3-none-any.whl (905 kB)\n",
      "   ---------------------------------------- 0.0/905.5 kB ? eta -:--:--\n",
      "   ------------------------- ------------- 583.7/905.5 kB 18.5 MB/s eta 0:00:01\n",
      "   --------------------------------------- 905.5/905.5 kB 14.4 MB/s eta 0:00:00\n",
      "Downloading pandas-2.2.3-cp311-cp311-win_amd64.whl (11.6 MB)\n",
      "   ---------------------------------------- 0.0/11.6 MB ? eta -:--:--\n",
      "   --- ------------------------------------ 0.9/11.6 MB 29.1 MB/s eta 0:00:01\n",
      "   ----- ---------------------------------- 1.6/11.6 MB 25.6 MB/s eta 0:00:01\n",
      "   --------- ------------------------------ 2.9/11.6 MB 26.1 MB/s eta 0:00:01\n",
      "   ------------- -------------------------- 4.0/11.6 MB 25.3 MB/s eta 0:00:01\n",
      "   ---------------- ----------------------- 4.9/11.6 MB 24.2 MB/s eta 0:00:01\n",
      "   -------------------- ------------------- 5.9/11.6 MB 25.1 MB/s eta 0:00:01\n",
      "   ----------------------- ---------------- 6.8/11.6 MB 25.6 MB/s eta 0:00:01\n",
      "   -------------------------- ------------- 7.8/11.6 MB 24.8 MB/s eta 0:00:01\n",
      "   ----------------------------- ---------- 8.7/11.6 MB 25.2 MB/s eta 0:00:01\n",
      "   --------------------------------- ------ 9.6/11.6 MB 25.6 MB/s eta 0:00:01\n",
      "   ------------------------------------ --- 10.5/11.6 MB 25.2 MB/s eta 0:00:01\n",
      "   ---------------------------------------  11.5/11.6 MB 25.2 MB/s eta 0:00:01\n",
      "   ---------------------------------------- 11.6/11.6 MB 24.3 MB/s eta 0:00:00\n",
      "Downloading matplotlib-3.10.1-cp311-cp311-win_amd64.whl (8.1 MB)\n",
      "   ---------------------------------------- 0.0/8.1 MB ? eta -:--:--\n",
      "   ---- ----------------------------------- 1.0/8.1 MB 31.7 MB/s eta 0:00:01\n",
      "   ---------- ----------------------------- 2.1/8.1 MB 27.2 MB/s eta 0:00:01\n",
      "   --------------- ------------------------ 3.1/8.1 MB 28.0 MB/s eta 0:00:01\n",
      "   ------------------- -------------------- 4.0/8.1 MB 25.7 MB/s eta 0:00:01\n",
      "   ------------------------ --------------- 5.0/8.1 MB 26.4 MB/s eta 0:00:01\n",
      "   --------------------------- ------------ 5.6/8.1 MB 25.8 MB/s eta 0:00:01\n",
      "   --------------------------------- ------ 6.7/8.1 MB 26.7 MB/s eta 0:00:01\n",
      "   ------------------------------------- -- 7.5/8.1 MB 25.3 MB/s eta 0:00:01\n",
      "   ---------------------------------------- 8.1/8.1 MB 24.5 MB/s eta 0:00:00\n",
      "Downloading contourpy-1.3.2-cp311-cp311-win_amd64.whl (222 kB)\n",
      "   ---------------------------------------- 0.0/222.0 kB ? eta -:--:--\n",
      "   --------------------------------------- 222.0/222.0 kB 13.2 MB/s eta 0:00:00\n",
      "Downloading cycler-0.12.1-py3-none-any.whl (8.3 kB)\n",
      "Downloading elastic_transport-8.17.1-py3-none-any.whl (64 kB)\n",
      "   ---------------------------------------- 0.0/65.0 kB ? eta -:--:--\n",
      "   ---------------------------------------- 65.0/65.0 kB ? eta 0:00:00\n",
      "Downloading fonttools-4.57.0-cp311-cp311-win_amd64.whl (2.2 MB)\n",
      "   ---------------------------------------- 0.0/2.2 MB ? eta -:--:--\n",
      "   --------------- ------------------------ 0.9/2.2 MB 27.4 MB/s eta 0:00:01\n",
      "   -------------------------------- ------- 1.8/2.2 MB 28.1 MB/s eta 0:00:01\n",
      "   ---------------------------------------- 2.2/2.2 MB 23.3 MB/s eta 0:00:00\n",
      "Downloading kiwisolver-1.4.8-cp311-cp311-win_amd64.whl (71 kB)\n",
      "   ---------------------------------------- 0.0/72.0 kB ? eta -:--:--\n",
      "   ---------------------------------------- 72.0/72.0 kB ? eta 0:00:00\n",
      "Downloading numpy-2.2.5-cp311-cp311-win_amd64.whl (12.9 MB)\n",
      "   ---------------------------------------- 0.0/12.9 MB ? eta -:--:--\n",
      "   -- ------------------------------------- 0.9/12.9 MB 30.1 MB/s eta 0:00:01\n",
      "   ----- ---------------------------------- 1.9/12.9 MB 29.9 MB/s eta 0:00:01\n",
      "   -------- ------------------------------- 2.8/12.9 MB 25.7 MB/s eta 0:00:01\n",
      "   ----------- ---------------------------- 3.7/12.9 MB 26.7 MB/s eta 0:00:01\n",
      "   -------------- ------------------------- 4.7/12.9 MB 27.1 MB/s eta 0:00:01\n",
      "   ----------------- ---------------------- 5.6/12.9 MB 27.7 MB/s eta 0:00:01\n",
      "   -------------------- ------------------- 6.6/12.9 MB 26.3 MB/s eta 0:00:01\n",
      "   ----------------------- ---------------- 7.7/12.9 MB 26.0 MB/s eta 0:00:01\n",
      "   -------------------------- ------------- 8.7/12.9 MB 26.4 MB/s eta 0:00:01\n",
      "   ----------------------------- ---------- 9.7/12.9 MB 25.7 MB/s eta 0:00:01\n",
      "   -------------------------------- ------- 10.6/12.9 MB 26.2 MB/s eta 0:00:01\n",
      "   ----------------------------------- ---- 11.6/12.9 MB 25.2 MB/s eta 0:00:01\n",
      "   ---------------------------------------  12.9/12.9 MB 25.2 MB/s eta 0:00:01\n",
      "   ---------------------------------------- 12.9/12.9 MB 23.4 MB/s eta 0:00:00\n",
      "Downloading pillow-11.2.1-cp311-cp311-win_amd64.whl (2.7 MB)\n",
      "   ---------------------------------------- 0.0/2.7 MB ? eta -:--:--\n",
      "   -------------- ------------------------- 1.0/2.7 MB 30.7 MB/s eta 0:00:01\n",
      "   --------------------------- ------------ 1.9/2.7 MB 29.9 MB/s eta 0:00:01\n",
      "   ---------------------------------------  2.7/2.7 MB 28.6 MB/s eta 0:00:01\n",
      "   ---------------------------------------- 2.7/2.7 MB 24.5 MB/s eta 0:00:00\n",
      "Downloading pyparsing-3.2.3-py3-none-any.whl (111 kB)\n",
      "   ---------------------------------------- 0.0/111.1 kB ? eta -:--:--\n",
      "   ---------------------------------------- 111.1/111.1 kB ? eta 0:00:00\n",
      "Downloading tzdata-2025.2-py2.py3-none-any.whl (347 kB)\n",
      "   ---------------------------------------- 0.0/347.8 kB ? eta -:--:--\n",
      "   --------------------------------------- 347.8/347.8 kB 21.1 MB/s eta 0:00:00\n",
      "Installing collected packages: tzdata, pyparsing, pillow, numpy, kiwisolver, fonttools, elastic-transport, cycler, pandas, elasticsearch, contourpy, matplotlib\n",
      "Successfully installed contourpy-1.3.2 cycler-0.12.1 elastic-transport-8.17.1 elasticsearch-9.0.1 fonttools-4.57.0 kiwisolver-1.4.8 matplotlib-3.10.1 numpy-2.2.5 pandas-2.2.3 pillow-11.2.1 pyparsing-3.2.3 tzdata-2025.2\n"
     ]
    },
    {
     "name": "stderr",
     "output_type": "stream",
     "text": [
      "\n",
      "[notice] A new release of pip is available: 24.0 -> 25.1.1\n",
      "[notice] To update, run: python.exe -m pip install --upgrade pip\n"
     ]
    }
   ],
   "source": [
    "# requests       → to interact with the Elasticsearch REST API\n",
    "# elasticsearch  → official Elasticsearch Python client\n",
    "# pandas         → for handling and analyzing tabular data (e.g., dataset exploration)\n",
    "# matplotlib     → for optional data visualization (e.g., query stats or aggregations)\n",
    "\n",
    "!pip install requests elasticsearch pandas matplotlib"
   ]
  },
  {
   "cell_type": "code",
   "execution_count": 11,
   "metadata": {},
   "outputs": [
    {
     "name": "stdout",
     "output_type": "stream",
     "text": [
      "{'name': 'f5202efe872c', 'cluster_name': 'docker-cluster', 'cluster_uuid': '3XcS5eLWRbqa3dMix8YLlQ', 'version': {'number': '8.15.0', 'build_flavor': 'default', 'build_type': 'docker', 'build_hash': '1a77947f34deddb41af25e6f0ddb8e830159c179', 'build_date': '2024-08-05T10:05:34.233336849Z', 'build_snapshot': False, 'lucene_version': '9.11.1', 'minimum_wire_compatibility_version': '7.17.0', 'minimum_index_compatibility_version': '7.0.0'}, 'tagline': 'You Know, for Search'}\n"
     ]
    }
   ],
   "source": [
    "import requests\n",
    "\n",
    "# Send a request to the local Elasticsearch instance to verify it's running\n",
    "res = requests.get(\"http://localhost:9200\")\n",
    "\n",
    "# If Elasticsearch is up and running, this will return a JSON response \n",
    "# containing fields like 'name', 'cluster_name', 'cluster_uuid', etc.\n",
    "print(res.json())\n"
   ]
  },
  {
   "cell_type": "markdown",
   "metadata": {},
   "source": [
    "# Conclusion"
   ]
  },
  {
   "cell_type": "markdown",
   "metadata": {},
   "source": [
    "# References"
   ]
  },
  {
   "cell_type": "markdown",
   "metadata": {},
   "source": [
    "1. <a id=\"freecodecamp\"></a> [Elasticsearch Course for Beginners - FreeCodeCamp](https://www.youtube.com/watch?v=a4HBKEda_F8&ab_channel=freeCodeCamp.org)\n",
    "\n",
    "2. <a id=\"elasticdoc\"></a> [Elastic Official Documentation](https://www.elastic.co/docs/get-started)\n",
    "\n",
    "3. <a id=\"elasticlab\"></a> [Elastic Search Lab - Tutorials](https://www.elastic.co/search-labs/tutorials)"
   ]
  },
  {
   "cell_type": "markdown",
   "metadata": {},
   "source": [
    "# Process and Work Distribution\n"
   ]
  }
 ],
 "metadata": {
  "kernelspec": {
   "display_name": "Python 3",
   "language": "python",
   "name": "python3"
  },
  "language_info": {
   "codemirror_mode": {
    "name": "ipython",
    "version": 3
   },
   "file_extension": ".py",
   "mimetype": "text/x-python",
   "name": "python",
   "nbconvert_exporter": "python",
   "pygments_lexer": "ipython3",
   "version": "3.11.9"
  }
 },
 "nbformat": 4,
 "nbformat_minor": 2
}
